{
 "cells": [
  {
   "cell_type": "markdown",
   "id": "0349a63c-0df1-4f6d-b5bb-855499c05ac4",
   "metadata": {},
   "source": [
    "# Sunblock: Data Processing\n",
    "\n",
    "1. Load Data from SQLite Database into a Dataframe\n",
    "2. Convert Date string to Datetime object\n",
    "3. Use dataframe to perform any further math "
   ]
  },
  {
   "cell_type": "code",
   "execution_count": null,
   "id": "89b0c7b9-5aa3-40f1-a04e-7a33b7450094",
   "metadata": {},
   "outputs": [],
   "source": [
    "#imports\n",
    "import sqlite3\n",
    "import datetime\n",
    "import pandas as pd \n",
    "import plotly.express as px\n",
    "import plotly.offline as pyo\n",
    "from statistics import mean\n",
    "import numpy as np\n",
    "pyo.init_notebook_mode(connected=True)"
   ]
  },
  {
   "cell_type": "code",
   "execution_count": null,
   "id": "2b0d173b-bf7c-4bd7-a0b4-5cb6a8099013",
   "metadata": {},
   "outputs": [],
   "source": [
    "# Constants \n",
    "DB_NAME = \"./SunblockDB_30102024.db\"\n",
    "DB_TABLE_NAME = \"solardata\"\n",
    "DB_CONNECTION = None\n",
    "DB_CURSOR = None \n",
    "\n",
    "DATESTRING_FORMAT = '%Y-%m-%d %H:%M:%S'\n",
    "DATAFRAME = None\n",
    "\n",
    "\n",
    "## Columns \n",
    "Timestamp = \"Timestamp\"\n",
    "PVVoltage = \"PVVoltage\"\n",
    "PVCurrent = \"PVCurrent\"\n",
    "PVPower = \"PVPower\"\n",
    "BattVoltage = \"BattVoltage\"\n",
    "BattChargeCurrent = \"BattChargeCurrent\"\n",
    "BattChargePower = \"BattChargePower\"\n",
    "LoadPower = \"LoadPower\"\n",
    "BattPercentage = \"BattPercentage\"\n",
    "BattOverallCurrent = \"BattOverallCurrent\"\n",
    "CPUPowerDraw = \"CPUPowerDraw\"\n",
    "\n",
    "SAMPLING_FREQUENCY = 30  # in seconds"
   ]
  },
  {
   "cell_type": "code",
   "execution_count": null,
   "id": "84e309ae-1134-488b-b6d0-1b2bb4faf659",
   "metadata": {},
   "outputs": [],
   "source": [
    "# Methods \n",
    "def init_db_connection():\n",
    "    global DB_CONNECTION, DB_CURSOR\n",
    "    DB_CONNECTION = sqlite3.connect(DB_NAME)\n",
    "    DB_CURSOR = DB_CONNECTION.cursor()\n",
    "\n",
    "def check_db_connection():\n",
    "    if DB_CONNECTION != None and DB_CURSOR != None:\n",
    "        return True\n",
    "    return False\n",
    "\n",
    "def insert(data):\n",
    "    global DB_CURSOR, DB_CONNECTION\n",
    "    \n",
    "    if check_db_connection():\n",
    "        db_query = \"INSERT INTO \" + DB_TABLE_NAME + \" VALUES \" + data\n",
    "        DB_CURSOR.execute(db_query)\n",
    "        DB_CONNECTION.commit()\n",
    "    else:\n",
    "        print(\"Error: DB Connection not Initialized\")\n",
    "\n",
    "def parsefloat(str_val):\n",
    "    if isinstance(str_val, float): \n",
    "        return str_val\n",
    "    if str_val:\n",
    "        if str_val[0] == \".\":\n",
    "            return float(str_val[1:])\n",
    "        if str_val[-1] == \".\":\n",
    "            return float(str_val[0:len(str_val)-1])\n",
    "        return float(str_val)\n",
    "\n",
    "def load_solardata(start_date=None, end_date=None):\n",
    "\n",
    "    # Load data from DB and parse it into a dictionary containing call columns. \n",
    "    solar_data = {Timestamp: [], PVVoltage: [], PVCurrent: [], PVPower: [],\n",
    "               BattVoltage: [], BattChargeCurrent: [], BattChargePower: [],\n",
    "               LoadPower: [], BattPercentage: [], BattOverallCurrent: [], CPUPowerDraw: []}\n",
    "    \n",
    "    max_thresholds = {\n",
    "        PVVoltage: 25,\n",
    "        PVCurrent: 5, \n",
    "        PVPower: 100, \n",
    "        BattVoltage: 15,\n",
    "        \n",
    "    }\n",
    "                  \n",
    "    if check_db_connection():\n",
    "        query = DB_CURSOR.execute(\"SELECT * FROM \" + DB_TABLE_NAME)\n",
    "        names = [description[0] for description in DB_CURSOR.description]\n",
    "            \n",
    "        for row in query:\n",
    "            \n",
    "            #timestamp\n",
    "            solar_data[Timestamp].append(datetime.datetime.strptime(row[0], DATESTRING_FORMAT))\n",
    "\n",
    "            #PV Voltage Lowpass filtering\n",
    "            if parsefloat(row[1]) > max_thresholds[PVVoltage]:\n",
    "                solar_data[PVVoltage].append(solar_data[PVVoltage][-1])\n",
    "            else:\n",
    "                solar_data[PVVoltage].append(parsefloat(row[1]))\n",
    "\n",
    "            #PVCurrent Lowpass filtering\n",
    "            if parsefloat(row[2]) > max_thresholds[PVCurrent]:\n",
    "                solar_data[PVCurrent].append(solar_data[PVCurrent][-1])\n",
    "            else:\n",
    "                solar_data[PVCurrent].append(parsefloat(row[2]))\n",
    "\n",
    "            #PVPower Lowpass Filtering \n",
    "            if parsefloat(row[3]) > max_thresholds[PVPower]:\n",
    "                solar_data[PVPower].append(solar_data[PVPower][-1])\n",
    "            else:\n",
    "                solar_data[PVPower].append(parsefloat(row[3]))\n",
    "\n",
    "            #BattVoltage Lowpass Filtering \n",
    "            if parsefloat(row[4]) > max_thresholds[BattVoltage]:\n",
    "                solar_data[BattVoltage].append(solar_data[BattVoltage][-1])\n",
    "            else:\n",
    "                solar_data[BattVoltage].append(parsefloat(row[4]))\n",
    "\n",
    "            solar_data[BattChargeCurrent].append(row[5])\n",
    "            solar_data[BattChargePower].append(row[6])\n",
    "            solar_data[LoadPower].append(row[7])\n",
    "            solar_data[BattPercentage].append(row[8])\n",
    "            solar_data[BattOverallCurrent].append(row[9])\n",
    "            solar_data[CPUPowerDraw].append(row[10])\n",
    "    else:\n",
    "        print(\"Error: DB Connection not Initialized\")\n",
    "\n",
    "    return pd.DataFrame(solar_data)\n",
    "\n",
    "\n",
    "def cleanup():\n",
    "    if check_db_connection():\n",
    "        DB_CONNECTION.close()\n"
   ]
  },
  {
   "cell_type": "code",
   "execution_count": null,
   "id": "392fcf40-74ce-4a96-a3a9-e2fb5073e3b6",
   "metadata": {},
   "outputs": [],
   "source": [
    "# Window functions \n",
    "def window(start_date, end_date=None):\n",
    "    # input: start and end dates to be Timestamp objects. \n",
    "    # output: returns tuple with indices to slice Dataframe at\n",
    "    \n",
    "    slice_start_index = -1\n",
    "    slice_end_index = len(DATAFRAME[Timestamp]) \n",
    "    \n",
    "    for i in range(len(DATAFRAME[Timestamp])):\n",
    "        \n",
    "        if slice_start_index < 0 and DATAFRAME[Timestamp][i].date() >= start_date:\n",
    "            slice_start_index = i\n",
    "            if not end_date:\n",
    "                return (slice_start_index, len(DATAFRAME[Timestamp])) \n",
    "        \n",
    "        if slice_start_index > -1 and DATAFRAME[Timestamp][i].date() > end_date:\n",
    "            slice_end_index = i - 1 \n",
    "            return (slice_start_index, slice_end_index)\n",
    "    return (slice_start_index, slice_end_index)\n",
    "\n",
    "\n",
    "def resample(df, step):\n",
    "    # input: takes a dataframe and sampling frequency\n",
    "    # returns a new dataframe \n",
    "    return df.iloc[0: len(df):step]"
   ]
  },
  {
   "cell_type": "markdown",
   "id": "3cee5eca-4cf1-456e-957a-28331286d4cf",
   "metadata": {},
   "source": [
    "## Loading data from Database"
   ]
  },
  {
   "cell_type": "code",
   "execution_count": null,
   "id": "7e64c80d-c015-447a-ac27-6f987fdcb143",
   "metadata": {},
   "outputs": [],
   "source": [
    "init_db_connection()\n",
    "DATAFRAME = load_solardata()\n",
    "cleanup()"
   ]
  },
  {
   "cell_type": "code",
   "execution_count": null,
   "id": "563d9471-3562-40f8-8eab-f342b647bdee",
   "metadata": {},
   "outputs": [],
   "source": [
    "start_date = datetime.date(2024, 10, 4)\n",
    "end_date = datetime.date(2024, 10, 5)\n",
    "df_slice = window(start_date, end_date)\n",
    "resampled_df = resample(DATAFRAME.loc[df_slice[0]:df_slice[1]], SAMPLING_FREQUENCY)"
   ]
  },
  {
   "cell_type": "markdown",
   "id": "e84af03e-1bc1-4fcf-a5a1-c0838a96d023",
   "metadata": {},
   "source": [
    "## Plotting with Plotly"
   ]
  },
  {
   "cell_type": "code",
   "execution_count": null,
   "id": "98c38388-f536-411a-b26e-23406132ce16",
   "metadata": {},
   "outputs": [],
   "source": [
    "# Using plotly.express\n",
    "# Plotly docs \n",
    "# https://plotly.com/python/line-charts/"
   ]
  },
  {
   "cell_type": "code",
   "execution_count": null,
   "id": "5ab78e53-ea67-42bf-8e1f-9ecab3c79b2a",
   "metadata": {},
   "outputs": [],
   "source": [
    "fig = px.line(resampled_df, x=Timestamp, y=[BattVoltage, LoadPower])\n",
    "# fig.update_traces(line_color='#0000ff')\n",
    "fig.show()"
   ]
  },
  {
   "cell_type": "code",
   "execution_count": null,
   "id": "5f04dea7-3f9c-45d2-89ed-4b362a4c0245",
   "metadata": {},
   "outputs": [],
   "source": [
    "fig = px.line(resampled_df, x=Timestamp, y=[PVPower])\n",
    "fig.update_traces(line_color='#ff0000')\n",
    "fig.show()\n",
    "print(\"Maximum Power Generated for period was\", max(resampled_df[PVPower]), \"watts\") \n",
    "print(\"Total Energy Generated for period was\", sum(resampled_df[PVPower]) * SAMPLING_FREQUENCY, \"Joules\") \n",
    "print(\"Average Power Generated for period was\", mean(resampled_df[PVPower]), \"watts\")"
   ]
  },
  {
   "cell_type": "code",
   "execution_count": null,
   "id": "d0c09e13-4c2c-4f08-be0e-e8e483884d94",
   "metadata": {},
   "outputs": [],
   "source": [
    "fig = px.line(resampled_df, x=Timestamp, y=[LoadPower])\n",
    "fig.update_traces(line_color='#008800')\n",
    "fig.show()\n",
    "print(\"Average Power draw for period was\", mean(resampled_df[LoadPower]), \"watts\" ) "
   ]
  },
  {
   "cell_type": "markdown",
   "id": "11ea242f-f3db-45b3-ab50-9783559a4256",
   "metadata": {},
   "source": [
    "## CSV Operations"
   ]
  },
  {
   "cell_type": "code",
   "execution_count": null,
   "id": "95f9e6ab-be37-4a44-bcc1-fe3d98e20d2c",
   "metadata": {},
   "outputs": [],
   "source": [
    "# CSV Functions \n",
    "def read_file(filename=\"file.csv\"):\n",
    "    readings = []\n",
    "    reading = {\"Timestamp\": \"\", \"PVVoltage\": 0, \"PVCurrent\": 0, \"PVPower\": 0,\n",
    "               \"BattVoltage\": 0, \"BattChargeCurrent\": 0, \"BattChargePower\": 0,\n",
    "               \"LoadPower\": 0, \"BattPercentage\": 0, \"BattOverallCurrent\": 0, \"CPUPowerDraw\": 0}\n",
    "\n",
    "    _file = open(filename)\n",
    "\n",
    "    for i in _file:\n",
    "        line = i.strip().split(\",\")\n",
    "        if (\"timestamp\" not in line):\n",
    "            for n in range(len(line)):\n",
    "                if (n == 0):\n",
    "                    reading[\"Timestamp\"] = line[n]\n",
    "                else:\n",
    "                    reading[list(reading.keys())[n]] = float(line[n])\n",
    "            write_to_readings(reading, readings)\n",
    "    _file.close()\n",
    "\n",
    "    return readings"
   ]
  },
  {
   "cell_type": "code",
   "execution_count": null,
   "id": "f6c2a61d-dee7-460b-a283-65c329c21057",
   "metadata": {},
   "outputs": [],
   "source": [
    "CSV_DATA = read_file(\"sample.csv\")\n",
    "\n",
    "for i in CSV_DATA:\n",
    "    a = str(tuple(i.values()))\n",
    "    insert(a)"
   ]
  }
 ],
 "metadata": {
  "kernelspec": {
   "display_name": "venv",
   "language": "python",
   "name": "venv"
  },
  "language_info": {
   "codemirror_mode": {
    "name": "ipython",
    "version": 3
   },
   "file_extension": ".py",
   "mimetype": "text/x-python",
   "name": "python",
   "nbconvert_exporter": "python",
   "pygments_lexer": "ipython3",
   "version": "3.13.2"
  }
 },
 "nbformat": 4,
 "nbformat_minor": 5
}
